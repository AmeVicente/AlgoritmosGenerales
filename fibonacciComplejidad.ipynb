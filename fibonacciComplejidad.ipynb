{
 "cells": [
  {
   "cell_type": "markdown",
   "metadata": {},
   "source": [
    "### Complejidad"
   ]
  },
  {
   "cell_type": "markdown",
   "metadata": {},
   "source": [
    "#### Notación O(n) (asymptotic upper bound)\n",
    "Definicion. \n",
    "$$\n",
    "O(g(n))=\\{ \\text{Si existe constantes positivas } c \\text{ y } n_0 \\text{ tales que } 0\\leq f(n)\\leq cg(n) \\hspace{0.5cm} \\forall n \\geq n_0\\}\n",
    "$$\n",
    "\n",
    "La complejidad en tiempo y espacio de Fibonacci Recursivo es:\n",
    " $$\n",
    " O(\\phi^n)\n",
    " $$\n",
    " Mientras que Fibonacci iterativo la complejidad en tiempo es:\n",
    " $$\n",
    " O(n)\n",
    " $$\n",
    " "
   ]
  },
  {
   "cell_type": "code",
   "execution_count": 168,
   "metadata": {},
   "outputs": [],
   "source": [
    "import numpy as np\n",
    "from time import time\n",
    "import pylab as pb"
   ]
  },
  {
   "cell_type": "code",
   "execution_count": 169,
   "metadata": {},
   "outputs": [],
   "source": [
    "def fiboRecursivo(n):\n",
    "    if n==0:\n",
    "        return 0 \n",
    "    elif n==1:\n",
    "        return 1\n",
    "    else:\n",
    "        return fibonacci(n-1)+fibonacci(n-2)"
   ]
  },
  {
   "cell_type": "code",
   "execution_count": 129,
   "metadata": {},
   "outputs": [],
   "source": [
    "def fiboIterativo(n):\n",
    "    if n==0:\n",
    "        return 0\n",
    "    elif n==1:\n",
    "        return 1\n",
    "    else:\n",
    "        f2,f1=1,0\n",
    "        for i in range(1,n,1):\n",
    "            f2,f1,=f2+f1,f2\n",
    "        return f2      "
   ]
  },
  {
   "cell_type": "code",
   "execution_count": 164,
   "metadata": {},
   "outputs": [],
   "source": [
    "timeFR=[]\n",
    "timeFI=[]\n",
    "def On(funct,lista,n):\n",
    "    for i in range(n):\n",
    "        t_ini=time()*1000.0 #time() devuelve el tiempo en segundos desde el epoch multplicamos por 1000 \n",
    "        #para obtener el tiempo en milisegundos \n",
    "        funct(i)\n",
    "        t_fin=time()*1000.0\n",
    "        t_total=t_fin-t_ini\n",
    "        lista.append(t_total)\n",
    "    return t_total\n",
    "n=40"
   ]
  },
  {
   "cell_type": "code",
   "execution_count": 165,
   "metadata": {},
   "outputs": [
    {
     "data": {
      "text/plain": [
       "32312.95703125"
      ]
     },
     "execution_count": 165,
     "metadata": {},
     "output_type": "execute_result"
    }
   ],
   "source": [
    "On(fiboRecursivo,timeFR,n)"
   ]
  },
  {
   "cell_type": "code",
   "execution_count": 166,
   "metadata": {},
   "outputs": [
    {
     "data": {
      "text/plain": [
       "0.003173828125"
      ]
     },
     "execution_count": 166,
     "metadata": {},
     "output_type": "execute_result"
    }
   ],
   "source": [
    "On(fiboIterativo,timeFI,n)"
   ]
  },
  {
   "cell_type": "code",
   "execution_count": 171,
   "metadata": {},
   "outputs": [
    {
     "data": {
      "text/plain": [
       "[<matplotlib.lines.Line2D at 0x11401a7f0>]"
      ]
     },
     "execution_count": 171,
     "metadata": {},
     "output_type": "execute_result"
    },
    {
     "data": {
      "image/png": "[encoded data removed]",
      "text/plain": [
       "<Figure size 432x288 with 1 Axes>"
      ]
     },
     "metadata": {
      "needs_background": "light"
     },
     "output_type": "display_data"
    }
   ],
   "source": [
    "n=[i for i in range(40)]\n",
    "pb.title('Complejidad en tiempo')\n",
    "pb.xlabel('n')\n",
    "pb.ylabel('Tiempo de ejecución')\n",
    "pb.plot(n,timeFR)\n",
    "pb.plot(n,timeFI)"
   ]
  }
 ],
 "metadata": {
  "kernelspec": {
   "display_name": "Python 3",
   "language": "python",
   "name": "python3"
  },
  "language_info": {
   "codemirror_mode": {
    "name": "ipython",
    "version": 3
   },
   "file_extension": ".py",
   "mimetype": "text/x-python",
   "name": "python",
   "nbconvert_exporter": "python",
   "pygments_lexer": "ipython3",
   "version": "3.7.0"
  }
 },
 "nbformat": 4,
 "nbformat_minor": 2
}
