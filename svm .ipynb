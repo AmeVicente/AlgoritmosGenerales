{
 "cells": [
  {
   "cell_type": "code",
   "execution_count": 110,
   "metadata": {},
   "outputs": [],
   "source": [
    "import numpy as np\n",
    "import matplotlib.pyplot as plt\n",
    "from sklearn import svm\n",
    "from sklearn.datasets.samples_generator import make_blobs\n",
    "import pylab as pl"
   ]
  },
  {
   "cell_type": "code",
   "execution_count": 112,
   "metadata": {},
   "outputs": [],
   "source": [
    "X, y = make_blobs(n_samples=40,n_features =2, centers=2, random_state=None)"
   ]
  },
  {
   "cell_type": "code",
   "execution_count": 96,
   "metadata": {},
   "outputs": [
    {
     "data": {
      "text/plain": [
       "<matplotlib.collections.PathCollection at 0x252cf2924a8>"
      ]
     },
     "execution_count": 96,
     "metadata": {},
     "output_type": "execute_result"
    },
    {
     "data": {
      "image/png": "[encoded data removed]",
      "text/plain": [
       "<Figure size 432x288 with 1 Axes>"
      ]
     },
     "metadata": {},
     "output_type": "display_data"
    }
   ],
   "source": [
    "pl.scatter(X[:,0],X[:,1],c=y)"
   ]
  },
  {
   "cell_type": "code",
   "execution_count": 97,
   "metadata": {},
   "outputs": [
    {
     "data": {
      "text/plain": [
       "SVC(C=10000, cache_size=200, class_weight=None, coef0=0.0,\n",
       "  decision_function_shape='ovr', degree=3, gamma='auto', kernel='linear',\n",
       "  max_iter=-1, probability=False, random_state=None, shrinking=True,\n",
       "  tol=0.001, verbose=False)"
      ]
     },
     "execution_count": 97,
     "metadata": {},
     "output_type": "execute_result"
    }
   ],
   "source": [
    "svmm = svm.SVC(kernel='linear', C=10000)\n",
    "svmm.fit(X, y)"
   ]
  },
  {
   "cell_type": "code",
   "execution_count": 98,
   "metadata": {},
   "outputs": [
    {
     "name": "stdout",
     "output_type": "stream",
     "text": [
      "Weights assigned to the features\n",
      "[[ 0.09233022 -0.12893237]]\n",
      "Constants in decision functions\n",
      "[-0.12656037]\n",
      "Support vectors\n",
      "[[-8.59532069  0.61715442]\n",
      " [-1.25441077 -9.63388664]]\n",
      "Number of support vectors for each class\n",
      "[1 1]\n"
     ]
    }
   ],
   "source": [
    "a=svmm.fit(X, y)\n",
    "print('Weights assigned to the features')\n",
    "print(a.coef_)\n",
    "print('Constants in decision functions')\n",
    "print(a.intercept_)\n",
    "print('Support vectors')\n",
    "print(a.support_vectors_ )\n",
    "print('Number of support vectors for each class')\n",
    "print(a.n_support_ )"
   ]
  },
  {
   "cell_type": "code",
   "execution_count": 107,
   "metadata": {},
   "outputs": [
    {
     "data": {
      "image/png": "[encoded data removed]",
      "text/plain": [
       "<Figure size 432x288 with 1 Axes>"
      ]
     },
     "metadata": {},
     "output_type": "display_data"
    }
   ],
   "source": [
    "pl.scatter(X[:, 0], X[:, 1], c=y)\n",
    "ax = pl.gca()\n",
    "xlim = ax.get_xlim()\n",
    "ylim = ax.get_ylim()\n",
    "x0 = linspace(xlim[0], xlim[1], 10)\n",
    "y0 = linspace(ylim[0], ylim[1], 10)\n",
    "x1,y1=meshgrid(x0,y0)\n",
    "xy = np.vstack([x1.ravel(), y1.ravel()]).T\n",
    "z =svmm.decision_function(xy).reshape(y1.shape)\n",
    "ax.contourf(x1, y1, z, colors='k', levels=[-2,-1,0, 1, 2], alpha=0.5,\n",
    "           linestyles=['--','--','-', '--','--'])\n",
    "show()"
   ]
  },
  {
   "cell_type": "code",
   "execution_count": 101,
   "metadata": {},
   "outputs": [
    {
     "data": {
      "text/plain": [
       "array([-12.64112095, -10.91795033,  -9.1947797 ,  -7.47160908,\n",
       "        -5.74843845,  -4.02526782,  -2.3020972 ,  -0.57892657,\n",
       "         1.14424405,   2.86741468])"
      ]
     },
     "execution_count": 101,
     "metadata": {},
     "output_type": "execute_result"
    }
   ],
   "source": [
    "x0"
   ]
  },
  {
   "cell_type": "code",
   "execution_count": 102,
   "metadata": {},
   "outputs": [
    {
     "data": {
      "text/plain": [
       "array([-12.40295549, -10.56893416,  -8.73491283,  -6.9008915 ,\n",
       "        -5.06687017,  -3.23284885,  -1.39882752,   0.43519381,\n",
       "         2.26921514,   4.10323647])"
      ]
     },
     "execution_count": 102,
     "metadata": {},
     "output_type": "execute_result"
    }
   ],
   "source": [
    "y0"
   ]
  },
  {
   "cell_type": "code",
   "execution_count": 103,
   "metadata": {},
   "outputs": [
    {
     "data": {
      "text/plain": [
       "(array([[-12.64112095, -10.91795033,  -9.1947797 ,  -7.47160908,\n",
       "          -5.74843845,  -4.02526782,  -2.3020972 ,  -0.57892657,\n",
       "           1.14424405,   2.86741468],\n",
       "        [-12.64112095, -10.91795033,  -9.1947797 ,  -7.47160908,\n",
       "          -5.74843845,  -4.02526782,  -2.3020972 ,  -0.57892657,\n",
       "           1.14424405,   2.86741468],\n",
       "        [-12.64112095, -10.91795033,  -9.1947797 ,  -7.47160908,\n",
       "          -5.74843845,  -4.02526782,  -2.3020972 ,  -0.57892657,\n",
       "           1.14424405,   2.86741468],\n",
       "        [-12.64112095, -10.91795033,  -9.1947797 ,  -7.47160908,\n",
       "          -5.74843845,  -4.02526782,  -2.3020972 ,  -0.57892657,\n",
       "           1.14424405,   2.86741468],\n",
       "        [-12.64112095, -10.91795033,  -9.1947797 ,  -7.47160908,\n",
       "          -5.74843845,  -4.02526782,  -2.3020972 ,  -0.57892657,\n",
       "           1.14424405,   2.86741468],\n",
       "        [-12.64112095, -10.91795033,  -9.1947797 ,  -7.47160908,\n",
       "          -5.74843845,  -4.02526782,  -2.3020972 ,  -0.57892657,\n",
       "           1.14424405,   2.86741468],\n",
       "        [-12.64112095, -10.91795033,  -9.1947797 ,  -7.47160908,\n",
       "          -5.74843845,  -4.02526782,  -2.3020972 ,  -0.57892657,\n",
       "           1.14424405,   2.86741468],\n",
       "        [-12.64112095, -10.91795033,  -9.1947797 ,  -7.47160908,\n",
       "          -5.74843845,  -4.02526782,  -2.3020972 ,  -0.57892657,\n",
       "           1.14424405,   2.86741468],\n",
       "        [-12.64112095, -10.91795033,  -9.1947797 ,  -7.47160908,\n",
       "          -5.74843845,  -4.02526782,  -2.3020972 ,  -0.57892657,\n",
       "           1.14424405,   2.86741468],\n",
       "        [-12.64112095, -10.91795033,  -9.1947797 ,  -7.47160908,\n",
       "          -5.74843845,  -4.02526782,  -2.3020972 ,  -0.57892657,\n",
       "           1.14424405,   2.86741468]]),\n",
       " array([[-12.40295549, -12.40295549, -12.40295549, -12.40295549,\n",
       "         -12.40295549, -12.40295549, -12.40295549, -12.40295549,\n",
       "         -12.40295549, -12.40295549],\n",
       "        [-10.56893416, -10.56893416, -10.56893416, -10.56893416,\n",
       "         -10.56893416, -10.56893416, -10.56893416, -10.56893416,\n",
       "         -10.56893416, -10.56893416],\n",
       "        [ -8.73491283,  -8.73491283,  -8.73491283,  -8.73491283,\n",
       "          -8.73491283,  -8.73491283,  -8.73491283,  -8.73491283,\n",
       "          -8.73491283,  -8.73491283],\n",
       "        [ -6.9008915 ,  -6.9008915 ,  -6.9008915 ,  -6.9008915 ,\n",
       "          -6.9008915 ,  -6.9008915 ,  -6.9008915 ,  -6.9008915 ,\n",
       "          -6.9008915 ,  -6.9008915 ],\n",
       "        [ -5.06687017,  -5.06687017,  -5.06687017,  -5.06687017,\n",
       "          -5.06687017,  -5.06687017,  -5.06687017,  -5.06687017,\n",
       "          -5.06687017,  -5.06687017],\n",
       "        [ -3.23284885,  -3.23284885,  -3.23284885,  -3.23284885,\n",
       "          -3.23284885,  -3.23284885,  -3.23284885,  -3.23284885,\n",
       "          -3.23284885,  -3.23284885],\n",
       "        [ -1.39882752,  -1.39882752,  -1.39882752,  -1.39882752,\n",
       "          -1.39882752,  -1.39882752,  -1.39882752,  -1.39882752,\n",
       "          -1.39882752,  -1.39882752],\n",
       "        [  0.43519381,   0.43519381,   0.43519381,   0.43519381,\n",
       "           0.43519381,   0.43519381,   0.43519381,   0.43519381,\n",
       "           0.43519381,   0.43519381],\n",
       "        [  2.26921514,   2.26921514,   2.26921514,   2.26921514,\n",
       "           2.26921514,   2.26921514,   2.26921514,   2.26921514,\n",
       "           2.26921514,   2.26921514],\n",
       "        [  4.10323647,   4.10323647,   4.10323647,   4.10323647,\n",
       "           4.10323647,   4.10323647,   4.10323647,   4.10323647,\n",
       "           4.10323647,   4.10323647]]))"
      ]
     },
     "execution_count": 103,
     "metadata": {},
     "output_type": "execute_result"
    }
   ],
   "source": [
    "x1,y1"
   ]
  },
  {
   "cell_type": "code",
   "execution_count": 104,
   "metadata": {},
   "outputs": [
    {
     "data": {
      "text/plain": [
       "<matplotlib.collections.PathCollection at 0x252d0380b70>"
      ]
     },
     "execution_count": 104,
     "metadata": {},
     "output_type": "execute_result"
    },
    {
     "data": {
      "image/png": "[encoded data removed]",
      "text/plain": [
       "<Figure size 432x288 with 1 Axes>"
      ]
     },
     "metadata": {},
     "output_type": "display_data"
    }
   ],
   "source": [
    "scatter(x1,y1)"
   ]
  },
  {
   "cell_type": "code",
   "execution_count": 231,
   "metadata": {},
   "outputs": [
    {
     "data": {
      "text/plain": [
       "array([ 5.10466269,  5.73239386,  6.36012504,  6.98785622,  7.61558739,\n",
       "        8.24331857,  8.87104975,  9.49878092, 10.1265121 , 10.75424328,\n",
       "        5.10466269,  5.73239386,  6.36012504,  6.98785622,  7.61558739,\n",
       "        8.24331857,  8.87104975,  9.49878092, 10.1265121 , 10.75424328,\n",
       "        5.10466269,  5.73239386,  6.36012504,  6.98785622,  7.61558739,\n",
       "        8.24331857,  8.87104975,  9.49878092, 10.1265121 , 10.75424328,\n",
       "        5.10466269,  5.73239386,  6.36012504,  6.98785622,  7.61558739,\n",
       "        8.24331857,  8.87104975,  9.49878092, 10.1265121 , 10.75424328,\n",
       "        5.10466269,  5.73239386,  6.36012504,  6.98785622,  7.61558739,\n",
       "        8.24331857,  8.87104975,  9.49878092, 10.1265121 , 10.75424328,\n",
       "        5.10466269,  5.73239386,  6.36012504,  6.98785622,  7.61558739,\n",
       "        8.24331857,  8.87104975,  9.49878092, 10.1265121 , 10.75424328,\n",
       "        5.10466269,  5.73239386,  6.36012504,  6.98785622,  7.61558739,\n",
       "        8.24331857,  8.87104975,  9.49878092, 10.1265121 , 10.75424328,\n",
       "        5.10466269,  5.73239386,  6.36012504,  6.98785622,  7.61558739,\n",
       "        8.24331857,  8.87104975,  9.49878092, 10.1265121 , 10.75424328,\n",
       "        5.10466269,  5.73239386,  6.36012504,  6.98785622,  7.61558739,\n",
       "        8.24331857,  8.87104975,  9.49878092, 10.1265121 , 10.75424328,\n",
       "        5.10466269,  5.73239386,  6.36012504,  6.98785622,  7.61558739,\n",
       "        8.24331857,  8.87104975,  9.49878092, 10.1265121 , 10.75424328])"
      ]
     },
     "execution_count": 231,
     "metadata": {},
     "output_type": "execute_result"
    }
   ],
   "source": [
    "x1.ravel()"
   ]
  },
  {
   "cell_type": "code",
   "execution_count": 233,
   "metadata": {},
   "outputs": [
    {
     "data": {
      "text/plain": [
       "array([-9.68007441, -9.68007441, -9.68007441, -9.68007441, -9.68007441,\n",
       "       -9.68007441, -9.68007441, -9.68007441, -9.68007441, -9.68007441,\n",
       "       -8.83654099, -8.83654099, -8.83654099, -8.83654099, -8.83654099,\n",
       "       -8.83654099, -8.83654099, -8.83654099, -8.83654099, -8.83654099,\n",
       "       -7.99300756, -7.99300756, -7.99300756, -7.99300756, -7.99300756,\n",
       "       -7.99300756, -7.99300756, -7.99300756, -7.99300756, -7.99300756,\n",
       "       -7.14947414, -7.14947414, -7.14947414, -7.14947414, -7.14947414,\n",
       "       -7.14947414, -7.14947414, -7.14947414, -7.14947414, -7.14947414,\n",
       "       -6.30594072, -6.30594072, -6.30594072, -6.30594072, -6.30594072,\n",
       "       -6.30594072, -6.30594072, -6.30594072, -6.30594072, -6.30594072,\n",
       "       -5.4624073 , -5.4624073 , -5.4624073 , -5.4624073 , -5.4624073 ,\n",
       "       -5.4624073 , -5.4624073 , -5.4624073 , -5.4624073 , -5.4624073 ,\n",
       "       -4.61887388, -4.61887388, -4.61887388, -4.61887388, -4.61887388,\n",
       "       -4.61887388, -4.61887388, -4.61887388, -4.61887388, -4.61887388,\n",
       "       -3.77534045, -3.77534045, -3.77534045, -3.77534045, -3.77534045,\n",
       "       -3.77534045, -3.77534045, -3.77534045, -3.77534045, -3.77534045,\n",
       "       -2.93180703, -2.93180703, -2.93180703, -2.93180703, -2.93180703,\n",
       "       -2.93180703, -2.93180703, -2.93180703, -2.93180703, -2.93180703,\n",
       "       -2.08827361, -2.08827361, -2.08827361, -2.08827361, -2.08827361,\n",
       "       -2.08827361, -2.08827361, -2.08827361, -2.08827361, -2.08827361])"
      ]
     },
     "execution_count": 233,
     "metadata": {},
     "output_type": "execute_result"
    }
   ],
   "source": [
    "y1.ravel()"
   ]
  },
  {
   "cell_type": "code",
   "execution_count": 234,
   "metadata": {},
   "outputs": [
    {
     "data": {
      "text/plain": [
       "array([[ 5.10466269,  5.73239386,  6.36012504,  6.98785622,  7.61558739,\n",
       "         8.24331857,  8.87104975,  9.49878092, 10.1265121 , 10.75424328,\n",
       "         5.10466269,  5.73239386,  6.36012504,  6.98785622,  7.61558739,\n",
       "         8.24331857,  8.87104975,  9.49878092, 10.1265121 , 10.75424328,\n",
       "         5.10466269,  5.73239386,  6.36012504,  6.98785622,  7.61558739,\n",
       "         8.24331857,  8.87104975,  9.49878092, 10.1265121 , 10.75424328,\n",
       "         5.10466269,  5.73239386,  6.36012504,  6.98785622,  7.61558739,\n",
       "         8.24331857,  8.87104975,  9.49878092, 10.1265121 , 10.75424328,\n",
       "         5.10466269,  5.73239386,  6.36012504,  6.98785622,  7.61558739,\n",
       "         8.24331857,  8.87104975,  9.49878092, 10.1265121 , 10.75424328,\n",
       "         5.10466269,  5.73239386,  6.36012504,  6.98785622,  7.61558739,\n",
       "         8.24331857,  8.87104975,  9.49878092, 10.1265121 , 10.75424328,\n",
       "         5.10466269,  5.73239386,  6.36012504,  6.98785622,  7.61558739,\n",
       "         8.24331857,  8.87104975,  9.49878092, 10.1265121 , 10.75424328,\n",
       "         5.10466269,  5.73239386,  6.36012504,  6.98785622,  7.61558739,\n",
       "         8.24331857,  8.87104975,  9.49878092, 10.1265121 , 10.75424328,\n",
       "         5.10466269,  5.73239386,  6.36012504,  6.98785622,  7.61558739,\n",
       "         8.24331857,  8.87104975,  9.49878092, 10.1265121 , 10.75424328,\n",
       "         5.10466269,  5.73239386,  6.36012504,  6.98785622,  7.61558739,\n",
       "         8.24331857,  8.87104975,  9.49878092, 10.1265121 , 10.75424328],\n",
       "       [-9.68007441, -9.68007441, -9.68007441, -9.68007441, -9.68007441,\n",
       "        -9.68007441, -9.68007441, -9.68007441, -9.68007441, -9.68007441,\n",
       "        -8.83654099, -8.83654099, -8.83654099, -8.83654099, -8.83654099,\n",
       "        -8.83654099, -8.83654099, -8.83654099, -8.83654099, -8.83654099,\n",
       "        -7.99300756, -7.99300756, -7.99300756, -7.99300756, -7.99300756,\n",
       "        -7.99300756, -7.99300756, -7.99300756, -7.99300756, -7.99300756,\n",
       "        -7.14947414, -7.14947414, -7.14947414, -7.14947414, -7.14947414,\n",
       "        -7.14947414, -7.14947414, -7.14947414, -7.14947414, -7.14947414,\n",
       "        -6.30594072, -6.30594072, -6.30594072, -6.30594072, -6.30594072,\n",
       "        -6.30594072, -6.30594072, -6.30594072, -6.30594072, -6.30594072,\n",
       "        -5.4624073 , -5.4624073 , -5.4624073 , -5.4624073 , -5.4624073 ,\n",
       "        -5.4624073 , -5.4624073 , -5.4624073 , -5.4624073 , -5.4624073 ,\n",
       "        -4.61887388, -4.61887388, -4.61887388, -4.61887388, -4.61887388,\n",
       "        -4.61887388, -4.61887388, -4.61887388, -4.61887388, -4.61887388,\n",
       "        -3.77534045, -3.77534045, -3.77534045, -3.77534045, -3.77534045,\n",
       "        -3.77534045, -3.77534045, -3.77534045, -3.77534045, -3.77534045,\n",
       "        -2.93180703, -2.93180703, -2.93180703, -2.93180703, -2.93180703,\n",
       "        -2.93180703, -2.93180703, -2.93180703, -2.93180703, -2.93180703,\n",
       "        -2.08827361, -2.08827361, -2.08827361, -2.08827361, -2.08827361,\n",
       "        -2.08827361, -2.08827361, -2.08827361, -2.08827361, -2.08827361]])"
      ]
     },
     "execution_count": 234,
     "metadata": {},
     "output_type": "execute_result"
    }
   ],
   "source": [
    "vstack([x1.ravel(), y1.ravel()])"
   ]
  },
  {
   "cell_type": "code",
   "execution_count": 242,
   "metadata": {},
   "outputs": [
    {
     "data": {
      "text/plain": [
       "array([[ 5.10466269, -9.68007441],\n",
       "       [ 5.73239386, -9.68007441],\n",
       "       [ 6.36012504, -9.68007441],\n",
       "       [ 6.98785622, -9.68007441],\n",
       "       [ 7.61558739, -9.68007441],\n",
       "       [ 8.24331857, -9.68007441],\n",
       "       [ 8.87104975, -9.68007441],\n",
       "       [ 9.49878092, -9.68007441],\n",
       "       [10.1265121 , -9.68007441],\n",
       "       [10.75424328, -9.68007441],\n",
       "       [ 5.10466269, -8.83654099],\n",
       "       [ 5.73239386, -8.83654099],\n",
       "       [ 6.36012504, -8.83654099],\n",
       "       [ 6.98785622, -8.83654099],\n",
       "       [ 7.61558739, -8.83654099],\n",
       "       [ 8.24331857, -8.83654099],\n",
       "       [ 8.87104975, -8.83654099],\n",
       "       [ 9.49878092, -8.83654099],\n",
       "       [10.1265121 , -8.83654099],\n",
       "       [10.75424328, -8.83654099],\n",
       "       [ 5.10466269, -7.99300756],\n",
       "       [ 5.73239386, -7.99300756],\n",
       "       [ 6.36012504, -7.99300756],\n",
       "       [ 6.98785622, -7.99300756],\n",
       "       [ 7.61558739, -7.99300756],\n",
       "       [ 8.24331857, -7.99300756],\n",
       "       [ 8.87104975, -7.99300756],\n",
       "       [ 9.49878092, -7.99300756],\n",
       "       [10.1265121 , -7.99300756],\n",
       "       [10.75424328, -7.99300756],\n",
       "       [ 5.10466269, -7.14947414],\n",
       "       [ 5.73239386, -7.14947414],\n",
       "       [ 6.36012504, -7.14947414],\n",
       "       [ 6.98785622, -7.14947414],\n",
       "       [ 7.61558739, -7.14947414],\n",
       "       [ 8.24331857, -7.14947414],\n",
       "       [ 8.87104975, -7.14947414],\n",
       "       [ 9.49878092, -7.14947414],\n",
       "       [10.1265121 , -7.14947414],\n",
       "       [10.75424328, -7.14947414],\n",
       "       [ 5.10466269, -6.30594072],\n",
       "       [ 5.73239386, -6.30594072],\n",
       "       [ 6.36012504, -6.30594072],\n",
       "       [ 6.98785622, -6.30594072],\n",
       "       [ 7.61558739, -6.30594072],\n",
       "       [ 8.24331857, -6.30594072],\n",
       "       [ 8.87104975, -6.30594072],\n",
       "       [ 9.49878092, -6.30594072],\n",
       "       [10.1265121 , -6.30594072],\n",
       "       [10.75424328, -6.30594072],\n",
       "       [ 5.10466269, -5.4624073 ],\n",
       "       [ 5.73239386, -5.4624073 ],\n",
       "       [ 6.36012504, -5.4624073 ],\n",
       "       [ 6.98785622, -5.4624073 ],\n",
       "       [ 7.61558739, -5.4624073 ],\n",
       "       [ 8.24331857, -5.4624073 ],\n",
       "       [ 8.87104975, -5.4624073 ],\n",
       "       [ 9.49878092, -5.4624073 ],\n",
       "       [10.1265121 , -5.4624073 ],\n",
       "       [10.75424328, -5.4624073 ],\n",
       "       [ 5.10466269, -4.61887388],\n",
       "       [ 5.73239386, -4.61887388],\n",
       "       [ 6.36012504, -4.61887388],\n",
       "       [ 6.98785622, -4.61887388],\n",
       "       [ 7.61558739, -4.61887388],\n",
       "       [ 8.24331857, -4.61887388],\n",
       "       [ 8.87104975, -4.61887388],\n",
       "       [ 9.49878092, -4.61887388],\n",
       "       [10.1265121 , -4.61887388],\n",
       "       [10.75424328, -4.61887388],\n",
       "       [ 5.10466269, -3.77534045],\n",
       "       [ 5.73239386, -3.77534045],\n",
       "       [ 6.36012504, -3.77534045],\n",
       "       [ 6.98785622, -3.77534045],\n",
       "       [ 7.61558739, -3.77534045],\n",
       "       [ 8.24331857, -3.77534045],\n",
       "       [ 8.87104975, -3.77534045],\n",
       "       [ 9.49878092, -3.77534045],\n",
       "       [10.1265121 , -3.77534045],\n",
       "       [10.75424328, -3.77534045],\n",
       "       [ 5.10466269, -2.93180703],\n",
       "       [ 5.73239386, -2.93180703],\n",
       "       [ 6.36012504, -2.93180703],\n",
       "       [ 6.98785622, -2.93180703],\n",
       "       [ 7.61558739, -2.93180703],\n",
       "       [ 8.24331857, -2.93180703],\n",
       "       [ 8.87104975, -2.93180703],\n",
       "       [ 9.49878092, -2.93180703],\n",
       "       [10.1265121 , -2.93180703],\n",
       "       [10.75424328, -2.93180703],\n",
       "       [ 5.10466269, -2.08827361],\n",
       "       [ 5.73239386, -2.08827361],\n",
       "       [ 6.36012504, -2.08827361],\n",
       "       [ 6.98785622, -2.08827361],\n",
       "       [ 7.61558739, -2.08827361],\n",
       "       [ 8.24331857, -2.08827361],\n",
       "       [ 8.87104975, -2.08827361],\n",
       "       [ 9.49878092, -2.08827361],\n",
       "       [10.1265121 , -2.08827361],\n",
       "       [10.75424328, -2.08827361]])"
      ]
     },
     "execution_count": 242,
     "metadata": {},
     "output_type": "execute_result"
    }
   ],
   "source": [
    "vstack([x1.ravel(), y1.ravel()]).T"
   ]
  },
  {
   "cell_type": "code",
   "execution_count": 241,
   "metadata": {},
   "outputs": [
    {
     "data": {
      "text/plain": [
       "100"
      ]
     },
     "execution_count": 241,
     "metadata": {},
     "output_type": "execute_result"
    }
   ],
   "source": [
    "z =svmm.decision_function(xy)\n",
    "len(z)"
   ]
  },
  {
   "cell_type": "code",
   "execution_count": 222,
   "metadata": {},
   "outputs": [
    {
     "data": {
      "text/plain": [
       "array([[ 2.74333573,  2.53042538,  2.31751503,  2.10460468,  1.89169433,\n",
       "         1.67878398,  1.46587363,  1.25296329,  1.04005294,  0.82714259],\n",
       "       [ 2.31725699,  2.10434664,  1.89143629,  1.67852594,  1.46561559,\n",
       "         1.25270524,  1.03979489,  0.82688454,  0.6139742 ,  0.40106385],\n",
       "       [ 1.89117824,  1.6782679 ,  1.46535755,  1.2524472 ,  1.03953685,\n",
       "         0.8266265 ,  0.61371615,  0.4008058 ,  0.18789545, -0.02501489],\n",
       "       [ 1.4650995 ,  1.25218915,  1.03927881,  0.82636846,  0.61345811,\n",
       "         0.40054776,  0.18763741, -0.02527294, -0.23818329, -0.45109364],\n",
       "       [ 1.03902076,  0.82611041,  0.61320006,  0.40028972,  0.18737937,\n",
       "        -0.02553098, -0.23844133, -0.45135168, -0.66426203, -0.87717238],\n",
       "       [ 0.61294202,  0.40003167,  0.18712132, -0.02578903, -0.23869938,\n",
       "        -0.45160972, -0.66452007, -0.87743042, -1.09034077, -1.30325112],\n",
       "       [ 0.18686328, -0.02604707, -0.23895742, -0.45186777, -0.66477812,\n",
       "        -0.87768847, -1.09059881, -1.30350916, -1.51641951, -1.72932986],\n",
       "       [-0.23921546, -0.45212581, -0.66503616, -0.87794651, -1.09085686,\n",
       "        -1.30376721, -1.51667756, -1.7295879 , -1.94249825, -2.1554086 ],\n",
       "       [-0.6652942 , -0.87820455, -1.0911149 , -1.30402525, -1.5169356 ,\n",
       "        -1.72984595, -1.9427563 , -2.15566665, -2.36857699, -2.58148734],\n",
       "       [-1.09137295, -1.30428329, -1.51719364, -1.73010399, -1.94301434,\n",
       "        -2.15592469, -2.36883504, -2.58174539, -2.79465574, -3.00756608]])"
      ]
     },
     "execution_count": 222,
     "metadata": {},
     "output_type": "execute_result"
    }
   ],
   "source": [
    "z.reshape(y1.shape)"
   ]
  },
  {
   "cell_type": "code",
   "execution_count": 1,
   "metadata": {},
   "outputs": [
    {
     "ename": "NameError",
     "evalue": "name 'svm' is not defined",
     "output_type": "error",
     "traceback": [
      "\u001b[1;31m---------------------------------------------------------------------------\u001b[0m",
      "\u001b[1;31mNameError\u001b[0m                                 Traceback (most recent call last)",
      "\u001b[1;32m<ipython-input-1-269a6be1bc36>\u001b[0m in \u001b[0;36m<module>\u001b[1;34m()\u001b[0m\n\u001b[1;32m----> 1\u001b[1;33m \u001b[0msvmm\u001b[0m \u001b[1;33m=\u001b[0m \u001b[0msvm\u001b[0m\u001b[1;33m.\u001b[0m\u001b[0mSVC\u001b[0m\u001b[1;33m(\u001b[0m\u001b[0mkernel\u001b[0m\u001b[1;33m=\u001b[0m\u001b[1;34m'linear'\u001b[0m\u001b[1;33m,\u001b[0m \u001b[0mC\u001b[0m\u001b[1;33m=\u001b[0m\u001b[1;36m1000\u001b[0m\u001b[1;33m)\u001b[0m\u001b[1;33m\u001b[0m\u001b[0m\n\u001b[0m\u001b[0;32m      2\u001b[0m \u001b[0mmodelo1\u001b[0m\u001b[1;33m=\u001b[0m\u001b[0msvmm\u001b[0m\u001b[1;33m.\u001b[0m\u001b[0mfit\u001b[0m\u001b[1;33m(\u001b[0m\u001b[0mX\u001b[0m\u001b[1;33m,\u001b[0m \u001b[0my\u001b[0m\u001b[1;33m)\u001b[0m\u001b[1;33m\u001b[0m\u001b[0m\n\u001b[0;32m      3\u001b[0m \u001b[0mw\u001b[0m\u001b[1;33m=\u001b[0m\u001b[0mmodelo1\u001b[0m\u001b[1;33m.\u001b[0m\u001b[0mcoef_\u001b[0m\u001b[1;33m[\u001b[0m\u001b[1;36m0\u001b[0m\u001b[1;33m]\u001b[0m\u001b[1;33m\u001b[0m\u001b[0m\n\u001b[0;32m      4\u001b[0m \u001b[0mprint\u001b[0m\u001b[1;33m(\u001b[0m\u001b[0mw\u001b[0m\u001b[1;33m)\u001b[0m\u001b[1;33m\u001b[0m\u001b[0m\n\u001b[0;32m      5\u001b[0m \u001b[0mwf\u001b[0m\u001b[1;33m=\u001b[0m\u001b[1;33m-\u001b[0m\u001b[0mw\u001b[0m\u001b[1;33m[\u001b[0m\u001b[1;36m0\u001b[0m\u001b[1;33m]\u001b[0m\u001b[1;33m/\u001b[0m\u001b[0mw\u001b[0m\u001b[1;33m[\u001b[0m\u001b[1;36m1\u001b[0m\u001b[1;33m]\u001b[0m\u001b[1;33m\u001b[0m\u001b[0m\n",
      "\u001b[1;31mNameError\u001b[0m: name 'svm' is not defined"
     ]
    }
   ],
   "source": [
    "svmm = svm.SVC(kernel='linear', C=1000)\n",
    "modelo1=svmm.fit(X, y)\n",
    "w=modelo1.coef_[0]\n",
    "print(w)\n",
    "wf=-w[0]/w[1]\n",
    "print(w)\n",
    "xmod0=linspace(0,12,30)\n",
    "ymod0=wf*x0-(modelo1.intercept_[0])/w[1]\n",
    "scatter(X[:, 0], X[:, 1], c=y, cmap=cm.Paired)\n",
    "plot(xmod0,ymod0)"
   ]
  },
  {
   "cell_type": "code",
   "execution_count": 307,
   "metadata": {},
   "outputs": [
    {
     "data": {
      "text/plain": [
       "[<matplotlib.lines.Line2D at 0x1aa080c22b0>]"
      ]
     },
     "execution_count": 307,
     "metadata": {},
     "output_type": "execute_result"
    },
    {
     "data": {
      "image/png": "[encoded data removed]",
      "text/plain": [
       "<Figure size 432x288 with 1 Axes>"
      ]
     },
     "metadata": {},
     "output_type": "display_data"
    }
   ],
   "source": [
    "scatter(X[:, 0], X[:, 1], c=y, cmap=cm.Paired)\n",
    "plot(x0,y0)"
   ]
  },
  {
   "cell_type": "code",
   "execution_count": 3,
   "metadata": {},
   "outputs": [
    {
     "ename": "NameError",
     "evalue": "name 'modelo1' is not defined",
     "output_type": "error",
     "traceback": [
      "\u001b[1;31m---------------------------------------------------------------------------\u001b[0m",
      "\u001b[1;31mNameError\u001b[0m                                 Traceback (most recent call last)",
      "\u001b[1;32m<ipython-input-3-daa1c9061e1d>\u001b[0m in \u001b[0;36m<module>\u001b[1;34m()\u001b[0m\n\u001b[1;32m----> 1\u001b[1;33m \u001b[0mmodelo1\u001b[0m\u001b[1;33m.\u001b[0m\u001b[0mintercept_\u001b[0m\u001b[1;33m[\u001b[0m\u001b[1;36m0\u001b[0m\u001b[1;33m]\u001b[0m\u001b[1;33m\u001b[0m\u001b[0m\n\u001b[0m\u001b[0;32m      2\u001b[0m \u001b[0mmodelo1\u001b[0m\u001b[1;33m.\u001b[0m\u001b[0mdual_coef_\u001b[0m\u001b[1;33m\u001b[0m\u001b[0m\n",
      "\u001b[1;31mNameError\u001b[0m: name 'modelo1' is not defined"
     ]
    }
   ],
   "source": [
    "modelo1.intercept_[0]\n",
    "modelo1.dual_coef_"
   ]
  },
  {
   "cell_type": "code",
   "execution_count": 113,
   "metadata": {},
   "outputs": [],
   "source": [
    "import sklearn as sk"
   ]
  },
  {
   "cell_type": "code",
   "execution_count": 114,
   "metadata": {},
   "outputs": [
    {
     "data": {
      "image/png": "[encoded data removed]",
      "text/plain": [
       "<Figure size 432x288 with 1 Axes>"
      ]
     },
     "metadata": {},
     "output_type": "display_data"
    }
   ],
   "source": [
    "iris = sk.datasets.load_iris()\n",
    "X = iris.data[:,:2]\n",
    "y5 = iris.target\n",
    "X0, X1 = X[:, 0], X[:, 1]\n",
    "scatter(X0,X1,c=y5)\n",
    "ax = gca()\n",
    "xlim = ax.get_xlim()\n",
    "ylim = ax.get_ylim()\n",
    "x4 = linspace(xlim[0], xlim[1], 100)\n",
    "y4 = linspace(ylim[0], ylim[1], 100)\n",
    "xx5, yy5 = meshgrid(x4, y4)\n",
    "mod5=svm.SVC(kernel='linear', C=100)\n",
    "modelo5=mod5.fit(X,y5)\n",
    "xy = vstack([xx5.ravel(), yy5.ravel()]).T\n",
    "z = mod5.predict(xy).reshape(xx5.shape)\n",
    "ax.contourf(xx5, yy5,z,cmap=plt.cm.coolwarm, alpha=0.5)\n",
    "show()"
   ]
  }
 ],
 "metadata": {
  "kernelspec": {
   "display_name": "Python 3",
   "language": "python",
   "name": "python3"
  },
  "language_info": {
   "codemirror_mode": {
    "name": "ipython",
    "version": 3
   },
   "file_extension": ".py",
   "mimetype": "text/x-python",
   "name": "python",
   "nbconvert_exporter": "python",
   "pygments_lexer": "ipython3",
   "version": "3.6.4"
  }
 },
 "nbformat": 4,
 "nbformat_minor": 2
}
